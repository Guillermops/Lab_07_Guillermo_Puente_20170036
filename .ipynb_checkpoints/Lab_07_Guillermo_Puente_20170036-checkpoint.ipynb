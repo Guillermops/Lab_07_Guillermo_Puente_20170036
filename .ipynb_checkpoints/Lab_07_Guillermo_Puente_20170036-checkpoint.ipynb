{
 "cells": [
  {
   "cell_type": "markdown",
   "metadata": {},
   "source": [
    "# Laboratorio 7: Sistema de Recomendaciones #"
   ]
  },
  {
   "cell_type": "markdown",
   "metadata": {},
   "source": [
    "### Importación de librerías ###"
   ]
  },
  {
   "cell_type": "code",
   "execution_count": null,
   "metadata": {},
   "outputs": [],
   "source": [
    "import pandas as pd \n",
    "import numpy as np\n",
    "from sklearn.preprocessing import StandardScaler\n",
    "from sklearn.model_selection import train_test_split"
   ]
  },
  {
   "cell_type": "markdown",
   "metadata": {},
   "source": [
    "### Funciones Predeterminadas ###"
   ]
  },
  {
   "cell_type": "code",
   "execution_count": null,
   "metadata": {},
   "outputs": [],
   "source": [
    "def hipo(X, theta):\n",
    "    z = np.dot(theta, X.T)\n",
    "    return 1/(1+np.exp(-(z))) - 0.0000001\n",
    "\n",
    "\n",
    "def costo(X, y, theta):\n",
    "    y1 = hipo(X, theta)\n",
    "    return -(1/len(X)) * np.sum(y*np.log(y1) + (1-y)*np.log(1-y1))\n",
    "\n",
    "\n",
    "def gradiente(X, y, theta, learning_rate, max_iter):\n",
    "    m =len(X)\n",
    "    J = [costo(X, y, theta)] \n",
    "    for i in range(0, max_iter):\n",
    "        h = hipo(X, theta)\n",
    "        for i in range(0, len(X)):\n",
    "            theta = theta - (learning_rate * costo(X, y, theta))\n",
    "        J.append(costo(X, y, theta))\n",
    "    return J, theta"
   ]
  },
  {
   "cell_type": "markdown",
   "metadata": {},
   "source": [
    "### Descarga de la data y preparación ###"
   ]
  },
  {
   "cell_type": "markdown",
   "metadata": {},
   "source": [
    "Se carga el dataset, se le modifica los nombres a las columnas para que estén los correctos y se observa cómo se distribuye inicialmente la data."
   ]
  },
  {
   "cell_type": "code",
   "execution_count": null,
   "metadata": {},
   "outputs": [],
   "source": [
    "nombres_metadata = ['Adult', 'belongs_to_collection', 'Budget', 'Genres', 'Homepage', 'Id', 'imdb_id', 'original_language',\n",
    "                    'original_title', 'overview', 'popularity', 'poster_path', 'production_companies', 'production_countries', 'release_date', 'revenue',\n",
    "                    'runtime', 'spoken_languages', 'status', 'tagline', 'title', 'video', 'vote_average', 'vote_count']\n",
    "metadata = pd.read_csv('movies_metadata.csv', names = nombres_metadata)\n",
    "\n",
    "nombres_links = ['movieId', 'imdbId', 'tmdbId']\n",
    "links = pd.read_csv('links_small.csv', names = nombres_links)\n",
    "\n",
    "nombres_ratings = ['userId', 'movieId', 'rating', 'timestamp']\n",
    "ratings = pd.read_csv('ratings_small.csv', names = nombres_ratings)"
   ]
  },
  {
   "cell_type": "code",
   "execution_count": null,
   "metadata": {},
   "outputs": [],
   "source": [
    "metadata.head(5)"
   ]
  },
  {
   "cell_type": "code",
   "execution_count": null,
   "metadata": {},
   "outputs": [],
   "source": [
    "links.head(5)"
   ]
  },
  {
   "cell_type": "code",
   "execution_count": null,
   "metadata": {},
   "outputs": [],
   "source": [
    "ratings.head(5)"
   ]
  },
  {
   "cell_type": "code",
   "execution_count": null,
   "metadata": {},
   "outputs": [],
   "source": []
  }
 ],
 "metadata": {
  "kernelspec": {
   "display_name": "Python 3",
   "language": "python",
   "name": "python3"
  },
  "language_info": {
   "codemirror_mode": {
    "name": "ipython",
    "version": 3
   },
   "file_extension": ".py",
   "mimetype": "text/x-python",
   "name": "python",
   "nbconvert_exporter": "python",
   "pygments_lexer": "ipython3",
   "version": "3.7.6"
  }
 },
 "nbformat": 4,
 "nbformat_minor": 4
}
